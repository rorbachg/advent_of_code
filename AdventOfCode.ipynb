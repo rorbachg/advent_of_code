{
 "cells": [
  {
   "cell_type": "code",
   "execution_count": 1,
   "id": "bcafb80e",
   "metadata": {},
   "outputs": [],
   "source": [
    "import requests\n",
    "import pandas as pd\n",
    "import json\n",
    "from io import StringIO"
   ]
  },
  {
   "cell_type": "markdown",
   "id": "a86d2a49",
   "metadata": {},
   "source": [
    "# Day 1"
   ]
  },
  {
   "cell_type": "code",
   "execution_count": 2,
   "id": "4edf6f36",
   "metadata": {},
   "outputs": [],
   "source": [
    "cookies = {\n",
    "    \"session\": \"53616c7465645f5ff7db31f30dbc39e8efa073d984f1019c423857460dd4104435d33265120f00431aafacd6a212e84f; _ga=GA1.2.1167308080.1638436952; _gid=GA1.2.1150076090.1638436952\"\n",
    "}\n",
    "resp = requests.get(\"https://adventofcode.com/2021/day/1/input\", cookies=cookies)\n",
    "df = pd.read_csv(StringIO(resp.content.decode('utf-8')), sep = \" \", names=[\"first\"])"
   ]
  },
  {
   "cell_type": "code",
   "execution_count": 4,
   "id": "bc8aace5",
   "metadata": {},
   "outputs": [],
   "source": [
    "def count_increased(df):\n",
    "    df = df.copy()\n",
    "    df['second'] = df['first'].shift(-1)\n",
    "    return (df['second'] > df['first']).sum()"
   ]
  },
  {
   "cell_type": "code",
   "execution_count": 5,
   "id": "6b9ea2ca",
   "metadata": {},
   "outputs": [
    {
     "data": {
      "text/plain": [
       "1529"
      ]
     },
     "execution_count": 5,
     "metadata": {},
     "output_type": "execute_result"
    }
   ],
   "source": [
    "count_increased(df)"
   ]
  },
  {
   "cell_type": "code",
   "execution_count": 6,
   "id": "f7b326e3",
   "metadata": {},
   "outputs": [],
   "source": [
    "def count_increased_triplets(df):\n",
    "    df = df.copy()\n",
    "    df = df.rolling(window=3).sum()\n",
    "    return count_increased(df)"
   ]
  },
  {
   "cell_type": "code",
   "execution_count": 7,
   "id": "a03aa5ed",
   "metadata": {
    "scrolled": true
   },
   "outputs": [
    {
     "data": {
      "text/plain": [
       "1567"
      ]
     },
     "execution_count": 7,
     "metadata": {},
     "output_type": "execute_result"
    }
   ],
   "source": [
    "count_increased_triplets(df)"
   ]
  },
  {
   "cell_type": "markdown",
   "id": "6e51879b",
   "metadata": {},
   "source": [
    "# Day 2"
   ]
  },
  {
   "cell_type": "code",
   "execution_count": 8,
   "id": "d647ab22",
   "metadata": {},
   "outputs": [],
   "source": [
    "cookies = {\n",
    "    \"session\": \"53616c7465645f5ff7db31f30dbc39e8efa073d984f1019c423857460dd4104435d33265120f00431aafacd6a212e84f; _ga=GA1.2.1167308080.1638436952; _gid=GA1.2.1150076090.1638436952\"\n",
    "}\n",
    "resp = requests.get(\"https://adventofcode.com/2021/day/2/input\", cookies=cookies)\n",
    "df = pd.read_csv(StringIO(resp.content.decode('utf-8')), sep = \" \", names=[\"move\", \"value\"])"
   ]
  },
  {
   "cell_type": "code",
   "execution_count": 9,
   "id": "f879423f",
   "metadata": {},
   "outputs": [],
   "source": [
    "def calculate_square_move_position(df):\n",
    "    df = df.copy()\n",
    "    agg_df = df.groupby(\"move\").sum()\n",
    "    fwd = agg_df.loc[\"forward\", \"value\"]\n",
    "    depth = agg_df.loc[\"down\", \"value\"] - agg_df.loc[\"up\", \"value\"]\n",
    "    return fwd * depth"
   ]
  },
  {
   "cell_type": "code",
   "execution_count": 10,
   "id": "35174978",
   "metadata": {},
   "outputs": [
    {
     "data": {
      "text/plain": [
       "1762050"
      ]
     },
     "execution_count": 10,
     "metadata": {},
     "output_type": "execute_result"
    }
   ],
   "source": [
    "calculate_square_move_position(df)"
   ]
  },
  {
   "cell_type": "code",
   "execution_count": 11,
   "id": "8649354d",
   "metadata": {},
   "outputs": [],
   "source": [
    "def calculate_aim_move_position(df):\n",
    "    df.copy()\n",
    "    df = df.set_index(\"move\")\n",
    "    df['aim_diff'] = 0\n",
    "    df['depth_diff'] = 0\n",
    "    df['fwd_diff'] = 0\n",
    "    df.loc[\"down\", \"aim_diff\"] = df.loc[\"down\", \"value\"]\n",
    "    df.loc[\"up\", \"aim_diff\"] = -df.loc[\"up\", \"value\"]\n",
    "    df['aim'] = df.aim_diff.cumsum()\n",
    "    df.loc[\"forward\", \"fwd_diff\"] = df.loc[\"forward\"].value\n",
    "    df.loc[\"forward\", \"depth_diff\"] = df.loc[\"forward\"].value * df.loc[\"forward\"].aim\n",
    "    return df['depth_diff'].sum() * df['fwd_diff'].sum()\n"
   ]
  },
  {
   "cell_type": "code",
   "execution_count": 12,
   "id": "249d7e5d",
   "metadata": {},
   "outputs": [
    {
     "data": {
      "text/plain": [
       "1855892637"
      ]
     },
     "execution_count": 12,
     "metadata": {},
     "output_type": "execute_result"
    }
   ],
   "source": [
    "calculate_aim_move_position(df)"
   ]
  },
  {
   "cell_type": "markdown",
   "id": "b7237a77",
   "metadata": {},
   "source": [
    "# Day 3"
   ]
  },
  {
   "cell_type": "code",
   "execution_count": 13,
   "id": "9a79079f",
   "metadata": {},
   "outputs": [],
   "source": [
    "cookies = {\n",
    "    \"session\": \"53616c7465645f5ff7db31f30dbc39e8efa073d984f1019c423857460dd4104435d33265120f00431aafacd6a212e84f; _ga=GA1.2.1167308080.1638436952; _gid=GA1.2.1150076090.1638436952\"\n",
    "}\n",
    "resp = requests.get(\"https://adventofcode.com/2021/day/3/input\", cookies=cookies)\n",
    "df = pd.read_csv(StringIO(resp.content.decode('utf-8')), sep = \" \", names=[\"diag\"], dtype=str)"
   ]
  },
  {
   "cell_type": "code",
   "execution_count": 14,
   "id": "d680152a",
   "metadata": {},
   "outputs": [],
   "source": [
    "def power_consumption(df):\n",
    "    df = df.copy()\n",
    "    bit_len = len(df.iloc[0, 0])\n",
    "    df = df.diag.str.split(\"\", expand = True).iloc[:, 1:-1]\n",
    "    gamma_rate = int(df.mode().apply(lambda row: \"\".join(row.astype(str)), axis=1)[0], 2)\n",
    "    epsilon_rate = 2**bit_len - 1 - gamma_rate\n",
    "    return gamma_rate * epsilon_rate"
   ]
  },
  {
   "cell_type": "code",
   "execution_count": 15,
   "id": "d4b337b2",
   "metadata": {},
   "outputs": [
    {
     "data": {
      "text/plain": [
       "1092896"
      ]
     },
     "execution_count": 15,
     "metadata": {},
     "output_type": "execute_result"
    }
   ],
   "source": [
    "power_consumption(df)"
   ]
  },
  {
   "cell_type": "code",
   "execution_count": 16,
   "id": "8a2f0160",
   "metadata": {},
   "outputs": [],
   "source": [
    "def bit_criteria(df, inversed=False):\n",
    "    default = '0' if inversed else '1'\n",
    "    new_df = df.copy()\n",
    "    for i in new_df.columns:\n",
    "        if new_df.shape[0] == 1:\n",
    "            break\n",
    "        counts = new_df.loc[:, i].value_counts(ascending=inversed)\n",
    "        most_common = default if counts[0] == counts[1] else counts.index[0]\n",
    "        new_df = new_df[new_df.loc[:, i] == most_common]\n",
    "    return int(new_df.apply(lambda row: \"\".join(row.astype(str)), axis=1).iloc[0], 2)"
   ]
  },
  {
   "cell_type": "code",
   "execution_count": 17,
   "id": "8f7cf39d",
   "metadata": {},
   "outputs": [],
   "source": [
    "def life_support(df):\n",
    "    df = df.copy()\n",
    "    df = df.diag.str.split(\"\", expand = True).iloc[:, 1:-1].astype(\"category\")\n",
    "    oxygen = bit_criteria(df, False)\n",
    "    co2 = bit_criteria(df, True)\n",
    "    return oxygen * co2"
   ]
  },
  {
   "cell_type": "code",
   "execution_count": 18,
   "id": "dad8ec2a",
   "metadata": {
    "scrolled": true
   },
   "outputs": [
    {
     "data": {
      "text/plain": [
       "4672151"
      ]
     },
     "execution_count": 18,
     "metadata": {},
     "output_type": "execute_result"
    }
   ],
   "source": [
    "life_support(df)"
   ]
  },
  {
   "cell_type": "markdown",
   "id": "5691a7d2",
   "metadata": {},
   "source": [
    "# Day 4"
   ]
  },
  {
   "cell_type": "code",
   "execution_count": null,
   "id": "bad8b5ea",
   "metadata": {},
   "outputs": [],
   "source": []
  }
 ],
 "metadata": {
  "kernelspec": {
   "display_name": "3.8.11",
   "language": "python",
   "name": "3.8.11"
  },
  "language_info": {
   "codemirror_mode": {
    "name": "ipython",
    "version": 3
   },
   "file_extension": ".py",
   "mimetype": "text/x-python",
   "name": "python",
   "nbconvert_exporter": "python",
   "pygments_lexer": "ipython3",
   "version": "3.8.11"
  }
 },
 "nbformat": 4,
 "nbformat_minor": 5
}
