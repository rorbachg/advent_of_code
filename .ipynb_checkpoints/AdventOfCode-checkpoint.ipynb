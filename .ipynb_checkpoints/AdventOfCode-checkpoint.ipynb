{
 "cells": [
  {
   "cell_type": "code",
   "execution_count": 147,
   "id": "bcafb80e",
   "metadata": {},
   "outputs": [],
   "source": [
    "import requests\n",
    "import pandas as pd\n",
    "import json\n",
    "from io import StringIO\n",
    "import numpy as np\n",
    "from collections import Counter"
   ]
  },
  {
   "cell_type": "markdown",
   "id": "a86d2a49",
   "metadata": {},
   "source": [
    "# Day 1"
   ]
  },
  {
   "cell_type": "code",
   "execution_count": 2,
   "id": "4edf6f36",
   "metadata": {},
   "outputs": [],
   "source": [
    "cookies = {\n",
    "    \"session\": \"53616c7465645f5ff7db31f30dbc39e8efa073d984f1019c423857460dd4104435d33265120f00431aafacd6a212e84f; _ga=GA1.2.1167308080.1638436952; _gid=GA1.2.1150076090.1638436952\"\n",
    "}\n",
    "resp = requests.get(\"https://adventofcode.com/2021/day/1/input\", cookies=cookies)\n",
    "df = pd.read_csv(StringIO(resp.content.decode('utf-8')), sep = \" \", names=[\"first\"])"
   ]
  },
  {
   "cell_type": "code",
   "execution_count": 4,
   "id": "bc8aace5",
   "metadata": {},
   "outputs": [],
   "source": [
    "def count_increased(df):\n",
    "    df = df.copy()\n",
    "    df['second'] = df['first'].shift(-1)\n",
    "    return (df['second'] > df['first']).sum()"
   ]
  },
  {
   "cell_type": "code",
   "execution_count": 5,
   "id": "6b9ea2ca",
   "metadata": {},
   "outputs": [
    {
     "data": {
      "text/plain": [
       "1529"
      ]
     },
     "execution_count": 5,
     "metadata": {},
     "output_type": "execute_result"
    }
   ],
   "source": [
    "count_increased(df)"
   ]
  },
  {
   "cell_type": "code",
   "execution_count": 6,
   "id": "f7b326e3",
   "metadata": {},
   "outputs": [],
   "source": [
    "def count_increased_triplets(df):\n",
    "    df = df.copy()\n",
    "    df = df.rolling(window=3).sum()\n",
    "    return count_increased(df)"
   ]
  },
  {
   "cell_type": "code",
   "execution_count": 7,
   "id": "a03aa5ed",
   "metadata": {
    "scrolled": true
   },
   "outputs": [
    {
     "data": {
      "text/plain": [
       "1567"
      ]
     },
     "execution_count": 7,
     "metadata": {},
     "output_type": "execute_result"
    }
   ],
   "source": [
    "count_increased_triplets(df)"
   ]
  },
  {
   "cell_type": "markdown",
   "id": "6e51879b",
   "metadata": {},
   "source": [
    "# Day 2"
   ]
  },
  {
   "cell_type": "code",
   "execution_count": 8,
   "id": "d647ab22",
   "metadata": {},
   "outputs": [],
   "source": [
    "cookies = {\n",
    "    \"session\": \"53616c7465645f5ff7db31f30dbc39e8efa073d984f1019c423857460dd4104435d33265120f00431aafacd6a212e84f; _ga=GA1.2.1167308080.1638436952; _gid=GA1.2.1150076090.1638436952\"\n",
    "}\n",
    "resp = requests.get(\"https://adventofcode.com/2021/day/2/input\", cookies=cookies)\n",
    "df = pd.read_csv(StringIO(resp.content.decode('utf-8')), sep = \" \", names=[\"move\", \"value\"])"
   ]
  },
  {
   "cell_type": "code",
   "execution_count": 9,
   "id": "f879423f",
   "metadata": {},
   "outputs": [],
   "source": [
    "def calculate_square_move_position(df):\n",
    "    df = df.copy()\n",
    "    agg_df = df.groupby(\"move\").sum()\n",
    "    fwd = agg_df.loc[\"forward\", \"value\"]\n",
    "    depth = agg_df.loc[\"down\", \"value\"] - agg_df.loc[\"up\", \"value\"]\n",
    "    return fwd * depth"
   ]
  },
  {
   "cell_type": "code",
   "execution_count": 10,
   "id": "35174978",
   "metadata": {},
   "outputs": [
    {
     "data": {
      "text/plain": [
       "1762050"
      ]
     },
     "execution_count": 10,
     "metadata": {},
     "output_type": "execute_result"
    }
   ],
   "source": [
    "calculate_square_move_position(df)"
   ]
  },
  {
   "cell_type": "code",
   "execution_count": 11,
   "id": "8649354d",
   "metadata": {},
   "outputs": [],
   "source": [
    "def calculate_aim_move_position(df):\n",
    "    df.copy()\n",
    "    df = df.set_index(\"move\")\n",
    "    df['aim_diff'] = 0\n",
    "    df['depth_diff'] = 0\n",
    "    df['fwd_diff'] = 0\n",
    "    df.loc[\"down\", \"aim_diff\"] = df.loc[\"down\", \"value\"]\n",
    "    df.loc[\"up\", \"aim_diff\"] = -df.loc[\"up\", \"value\"]\n",
    "    df['aim'] = df.aim_diff.cumsum()\n",
    "    df.loc[\"forward\", \"fwd_diff\"] = df.loc[\"forward\"].value\n",
    "    df.loc[\"forward\", \"depth_diff\"] = df.loc[\"forward\"].value * df.loc[\"forward\"].aim\n",
    "    return df['depth_diff'].sum() * df['fwd_diff'].sum()\n"
   ]
  },
  {
   "cell_type": "code",
   "execution_count": 12,
   "id": "249d7e5d",
   "metadata": {},
   "outputs": [
    {
     "data": {
      "text/plain": [
       "1855892637"
      ]
     },
     "execution_count": 12,
     "metadata": {},
     "output_type": "execute_result"
    }
   ],
   "source": [
    "calculate_aim_move_position(df)"
   ]
  },
  {
   "cell_type": "markdown",
   "id": "b7237a77",
   "metadata": {},
   "source": [
    "# Day 3"
   ]
  },
  {
   "cell_type": "code",
   "execution_count": 13,
   "id": "9a79079f",
   "metadata": {},
   "outputs": [],
   "source": [
    "cookies = {\n",
    "    \"session\": \"53616c7465645f5ff7db31f30dbc39e8efa073d984f1019c423857460dd4104435d33265120f00431aafacd6a212e84f; _ga=GA1.2.1167308080.1638436952; _gid=GA1.2.1150076090.1638436952\"\n",
    "}\n",
    "resp = requests.get(\"https://adventofcode.com/2021/day/3/input\", cookies=cookies)\n",
    "df = pd.read_csv(StringIO(resp.content.decode('utf-8')), sep = \" \", names=[\"diag\"], dtype=str)"
   ]
  },
  {
   "cell_type": "code",
   "execution_count": 14,
   "id": "d680152a",
   "metadata": {},
   "outputs": [],
   "source": [
    "def power_consumption(df):\n",
    "    df = df.copy()\n",
    "    bit_len = len(df.iloc[0, 0])\n",
    "    df = df.diag.str.split(\"\", expand = True).iloc[:, 1:-1]\n",
    "    gamma_rate = int(df.mode().apply(lambda row: \"\".join(row.astype(str)), axis=1)[0], 2)\n",
    "    epsilon_rate = 2**bit_len - 1 - gamma_rate\n",
    "    return gamma_rate * epsilon_rate"
   ]
  },
  {
   "cell_type": "code",
   "execution_count": 15,
   "id": "d4b337b2",
   "metadata": {},
   "outputs": [
    {
     "data": {
      "text/plain": [
       "1092896"
      ]
     },
     "execution_count": 15,
     "metadata": {},
     "output_type": "execute_result"
    }
   ],
   "source": [
    "power_consumption(df)"
   ]
  },
  {
   "cell_type": "code",
   "execution_count": 16,
   "id": "8a2f0160",
   "metadata": {},
   "outputs": [],
   "source": [
    "def bit_criteria(df, inversed=False):\n",
    "    default = '0' if inversed else '1'\n",
    "    new_df = df.copy()\n",
    "    for i in new_df.columns:\n",
    "        if new_df.shape[0] == 1:\n",
    "            break\n",
    "        counts = new_df.loc[:, i].value_counts(ascending=inversed)\n",
    "        most_common = default if counts[0] == counts[1] else counts.index[0]\n",
    "        new_df = new_df[new_df.loc[:, i] == most_common]\n",
    "    return int(new_df.apply(lambda row: \"\".join(row.astype(str)), axis=1).iloc[0], 2)"
   ]
  },
  {
   "cell_type": "code",
   "execution_count": 17,
   "id": "8f7cf39d",
   "metadata": {},
   "outputs": [],
   "source": [
    "def life_support(df):\n",
    "    df = df.copy()\n",
    "    df = df.diag.str.split(\"\", expand = True).iloc[:, 1:-1].astype(\"category\")\n",
    "    oxygen = bit_criteria(df, False)\n",
    "    co2 = bit_criteria(df, True)\n",
    "    return oxygen * co2"
   ]
  },
  {
   "cell_type": "code",
   "execution_count": 18,
   "id": "dad8ec2a",
   "metadata": {
    "scrolled": true
   },
   "outputs": [
    {
     "data": {
      "text/plain": [
       "4672151"
      ]
     },
     "execution_count": 18,
     "metadata": {},
     "output_type": "execute_result"
    }
   ],
   "source": [
    "life_support(df)"
   ]
  },
  {
   "cell_type": "markdown",
   "id": "5691a7d2",
   "metadata": {},
   "source": [
    "# Day 4"
   ]
  },
  {
   "cell_type": "code",
   "execution_count": 399,
   "id": "76ed4341-5e3d-40a9-ba89-c8f4ada8a539",
   "metadata": {},
   "outputs": [],
   "source": [
    "cookies = {\n",
    "    \"session\": \"53616c7465645f5f54e63355f047f61b6a213a59f854955cd6dc6ada7f002dba3e4e0a76cae96f63f2fb15570d7bb062; _ga=GA1.2.1167308080.1638436952; _gid=GA1.2.1150076090.1638436952\"\n",
    "}\n",
    "resp = requests.get(\"https://adventofcode.com/2021/day/4/input\", cookies=cookies)\n",
    "content = resp.content.decode('utf-8').split('\\n\\n')\n",
    "seq = pd.read_csv(StringIO(content[0]), header=None).T.iloc[:,0].values\n",
    "\n",
    "cont_list = []\n",
    "for cont in content[1:]:\n",
    "    cont_list.append(pd.read_csv(StringIO(cont), sep = '\\s+', header=None).values)\n",
    "tables = np.stack(cont_list)"
   ]
  },
  {
   "cell_type": "code",
   "execution_count": 414,
   "id": "bad8b5ea",
   "metadata": {},
   "outputs": [],
   "source": [
    "seq = np.array([7,4,9,5,11,17,23,2,0,14,21,24,10,16,13,6,15,25,12,22,18,20,8,19,3,26,1])\n",
    "\n",
    "tables = np.array([\n",
    "    [[22, 13, 17, 11,  0],\n",
    "     [8, 2, 23, 4, 24],\n",
    "     [21, 9, 14, 16, 7],\n",
    "     [6, 10, 3, 18, 5],\n",
    "     [1, 12, 20, 15, 19]],\n",
    "    [[3, 15, 0, 2, 22],\n",
    "     [9, 18, 13, 17, 5],\n",
    "     [19, 8, 7, 25, 23],\n",
    "     [20, 11, 10, 24, 4],\n",
    "     [14, 21, 16, 12, 6]],\n",
    "    [[14, 21, 17, 24,  4],\n",
    "     [10, 16, 15, 9, 19],\n",
    "     [18, 8, 23, 26, 20],\n",
    "     [22, 11, 13, 6, 5],\n",
    "     [2, 0, 12, 3, 7]],\n",
    "])"
   ]
  },
  {
   "cell_type": "code",
   "execution_count": 415,
   "id": "3891633b-c6a4-4953-adc7-c8df753f9f0d",
   "metadata": {},
   "outputs": [],
   "source": [
    "def bingo_number(tables, seq):\n",
    "    new = tables\n",
    "    for i in seq:\n",
    "        new = np.where(new == i, -1, new)\n",
    "        cols_end = np.where(new.sum(axis=1) == -5)\n",
    "        rows_end = np.where(new.sum(axis=2) == -5)\n",
    "        if (cols_winner := cols_end[0].size) or (rows_winner := rows_end[0].size):\n",
    "            winner_id = cols_end[0][0] if cols_winner else rows_end[0][0]\n",
    "            break\n",
    "    return new[winner_id][new[winner_id] != -1].sum() * i"
   ]
  },
  {
   "cell_type": "code",
   "execution_count": 416,
   "id": "1e6dd44e-58ae-4a3b-817c-4fc6506dfa8a",
   "metadata": {},
   "outputs": [
    {
     "data": {
      "text/plain": [
       "4512"
      ]
     },
     "execution_count": 416,
     "metadata": {},
     "output_type": "execute_result"
    }
   ],
   "source": [
    "bingo_number(tables, seq)"
   ]
  },
  {
   "cell_type": "code",
   "execution_count": 410,
   "id": "433c3e83-b6c0-4881-b293-15b89f47e0ca",
   "metadata": {
    "tags": []
   },
   "outputs": [],
   "source": [
    "def last_bingo_number(tables, seq):\n",
    "    players = tables.shape[0]\n",
    "    players_won = []\n",
    "    winners_scores = []\n",
    "    new = tables\n",
    "    for i in seq:\n",
    "        new = np.where(new == i, -1, new)\n",
    "        cols_end = np.where(new.sum(axis=1) == -5)\n",
    "        rows_end = np.where(new.sum(axis=2) == -5)\n",
    "        if (cols_winner := cols_end[0].size) or (rows_winner := rows_end[0].size):\n",
    "            winner_ids = np.unique(np.concatenate([cols_end[0], rows_end[0]]))\n",
    "            for winner_id in winner_ids:\n",
    "                players_won.append(winner_id)\n",
    "                winners_scores.append(new[winner_id][new[winner_id] != -1].sum() * i)\n",
    "                new[winner_id,:,:] = -10\n",
    "        if len(players_won) == players:\n",
    "            break\n",
    "    return winners_scores[-1]"
   ]
  },
  {
   "cell_type": "code",
   "execution_count": 411,
   "id": "99b64076-4cc4-4bb6-bd3f-60f5d1ffa566",
   "metadata": {},
   "outputs": [
    {
     "data": {
      "text/plain": [
       "21184"
      ]
     },
     "execution_count": 411,
     "metadata": {},
     "output_type": "execute_result"
    }
   ],
   "source": [
    "last_bingo_number(tables, seq)"
   ]
  },
  {
   "cell_type": "markdown",
   "id": "1bcb4dbf-ea19-428d-b7e5-6ea6d6fa9418",
   "metadata": {},
   "source": [
    "# Day 5"
   ]
  },
  {
   "cell_type": "code",
   "execution_count": 729,
   "id": "a09f4ab0-23f7-4b8e-8d03-d76256187355",
   "metadata": {},
   "outputs": [],
   "source": [
    "cookies = {\n",
    "    \"session\": \"53616c7465645f5ff7db31f30dbc39e8efa073d984f1019c423857460dd4104435d33265120f00431aafacd6a212e84f; _ga=GA1.2.1167308080.1638436952; _gid=GA1.2.1150076090.1638436952\"\n",
    "}\n",
    "resp = requests.get(\"https://adventofcode.com/2021/day/5/input\", cookies=cookies)\n",
    "df = pd.read_csv(StringIO(resp.content.decode('utf-8')), sep = \" \", header=None, names=['start', 'sep', 'end'])\n",
    "df['start'] = df['start'].apply(lambda x: x.split(',')).apply(lambda x: [int(x[0]), int(x[1])])\n",
    "df['end'] = df['end'].apply(lambda x: x.split(',')).apply(lambda x: [int(x[0]), int(x[1])])\n",
    "coords = np.array(df[['start', 'end']].to_numpy().tolist())"
   ]
  },
  {
   "cell_type": "code",
   "execution_count": 728,
   "id": "f9cc5418-789f-4a87-a7a0-a3ca265def5a",
   "metadata": {},
   "outputs": [],
   "source": [
    "def vertical_horizontal_coords(coords):\n",
    "    x_pairs = coords[:, :, 0]\n",
    "    y_pairs = coords[:, :, 1]\n",
    "\n",
    "    ver_hor_coords = coords[np.logical_or(\n",
    "            x_pairs[:, 0] == x_pairs[:, 1],\n",
    "            y_pairs[:, 0] == y_pairs[:, 1]\n",
    "        )\n",
    "    ]\n",
    "    return ver_hor_coords\n",
    "\n",
    "def count_crossings_hor_ver(coords):\n",
    "    max_coord = coords.max()\n",
    "    vent_map = np.zeros([max_coord+1, max_coord+1])\n",
    "    ver_hor_coords = vertical_horizontal_coords(coords)\n",
    "    for (y1, x1), (y2, x2) in ver_hor_coords:\n",
    "        if x1>x2: x1, x2 = x2, x1\n",
    "        if y1>y2: y1, y2 = y2, y1\n",
    "        vent_map[x1:(x2+1), y1:(y2+1)] += 1\n",
    "    return vent_map[vent_map>1].size"
   ]
  },
  {
   "cell_type": "code",
   "execution_count": 730,
   "id": "7de5c529-2a1f-42c5-bcf3-3dea09f3cb1c",
   "metadata": {},
   "outputs": [
    {
     "data": {
      "text/plain": [
       "6007"
      ]
     },
     "execution_count": 730,
     "metadata": {},
     "output_type": "execute_result"
    }
   ],
   "source": [
    "count_crossings_hor_ver(coords)"
   ]
  },
  {
   "cell_type": "code",
   "execution_count": 727,
   "id": "33c135f7-92ac-41f0-83dd-22c3ed5a779c",
   "metadata": {},
   "outputs": [],
   "source": [
    "def count_crossings(coords):\n",
    "    max_coord = coords.max()\n",
    "    vent_map = np.zeros([max_coord+1, max_coord+1])\n",
    "    for (y1, x1), (y2, x2) in coords:\n",
    "        flip = False\n",
    "        if x1>x2: x1, x2 = x2, x1; flip=not flip\n",
    "        if y1>y2: y1, y2 = y2, y1; flip=not flip\n",
    "        if x1 == x2 or y1 == y2:\n",
    "            vent_map[x1:(x2+1), y1:(y2+1)] += 1\n",
    "        else:\n",
    "            if flip:\n",
    "                value = np.fliplr(vent_map[x1:(x2+1), y1:(y2+1)])\n",
    "            else:\n",
    "                value = vent_map[x1:(x2+1), y1:(y2+1)]\n",
    "            np.fill_diagonal(value, value.diagonal()+1)\n",
    "    return vent_map[vent_map>1].size"
   ]
  },
  {
   "cell_type": "code",
   "execution_count": 731,
   "id": "44c067a5-fdb5-49de-bf43-83057a3bd116",
   "metadata": {
    "scrolled": true
   },
   "outputs": [
    {
     "data": {
      "text/plain": [
       "19349"
      ]
     },
     "execution_count": 731,
     "metadata": {},
     "output_type": "execute_result"
    }
   ],
   "source": [
    "count_crossings(coords)"
   ]
  },
  {
   "cell_type": "markdown",
   "id": "b15be22d",
   "metadata": {},
   "source": [
    "# Day 6"
   ]
  },
  {
   "cell_type": "code",
   "execution_count": 2,
   "id": "6e709c80",
   "metadata": {},
   "outputs": [],
   "source": [
    "ages = np.array([3,4,3,1,2])"
   ]
  },
  {
   "cell_type": "code",
   "execution_count": 56,
   "id": "e370c4dc",
   "metadata": {},
   "outputs": [],
   "source": [
    "cookies = {\n",
    "    \"session\": \"53616c7465645f5ff7db31f30dbc39e8efa073d984f1019c423857460dd4104435d33265120f00431aafacd6a212e84f; _ga=GA1.2.1167308080.1638436952; _gid=GA1.2.1150076090.1638436952\"\n",
    "}\n",
    "resp = requests.get(\"https://adventofcode.com/2021/day/6/input\", cookies=cookies)\n",
    "ages = pd.read_csv(StringIO(resp.content.decode('utf-8')), header=None).T.loc[:,0].values"
   ]
  },
  {
   "cell_type": "code",
   "execution_count": 59,
   "id": "4024e5b4",
   "metadata": {},
   "outputs": [],
   "source": [
    "def new_day(ages):\n",
    "    ages = ages - 1\n",
    "    n = ages[ages==-1].size\n",
    "    ages[ages==-1] = 6\n",
    "    ages = np.concatenate([ages, np.array([8]*n)])\n",
    "    return ages\n",
    "\n",
    "def simulate_days(ages, days):\n",
    "    for day in range(days):\n",
    "        ages = new_day(ages)\n",
    "    return ages.size\n",
    "\n",
    "def simulate_days_fast(ages, days):\n",
    "    fish_count = Counter(ages)\n",
    "    for day in range(days):\n",
    "        new_count = Counter()\n",
    "        for key, value in fish_count.items():\n",
    "            new_count[key-1] = fish_count[key]\n",
    "\n",
    "        new_count[6] += new_count[-1]\n",
    "        new_count[8] = new_count[-1]\n",
    "        del new_count[-1]\n",
    "        fish_count = new_count\n",
    "\n",
    "    return sum(fish_count.values())"
   ]
  },
  {
   "cell_type": "code",
   "execution_count": 60,
   "id": "21f47819",
   "metadata": {},
   "outputs": [
    {
     "data": {
      "text/plain": [
       "1640526601595"
      ]
     },
     "execution_count": 60,
     "metadata": {},
     "output_type": "execute_result"
    }
   ],
   "source": [
    "simulate_days_fast(ages, 256)"
   ]
  },
  {
   "cell_type": "markdown",
   "id": "604664c7",
   "metadata": {},
   "source": [
    "# Day 7"
   ]
  },
  {
   "cell_type": "code",
   "execution_count": 19,
   "id": "79ef1142",
   "metadata": {},
   "outputs": [],
   "source": [
    "cookies = {\n",
    "    \"session\": \"53616c7465645f5ff7db31f30dbc39e8efa073d984f1019c423857460dd4104435d33265120f00431aafacd6a212e84f; _ga=GA1.2.1167308080.1638436952; _gid=GA1.2.1150076090.1638436952\"\n",
    "}\n",
    "resp = requests.get(\"https://adventofcode.com/2021/day/7/input\", cookies=cookies)\n",
    "data = pd.read_csv(StringIO(resp.content.decode('utf-8')), header=None).T.loc[:,0].values"
   ]
  },
  {
   "cell_type": "code",
   "execution_count": 24,
   "id": "e9daa7d1",
   "metadata": {},
   "outputs": [],
   "source": [
    "def optimize(data, solution_vector):\n",
    "    x = np.reshape(data, (1, -1)) - np.reshape(solution_vector, (-1, 1))\n",
    "    moves = np.abs(x)\n",
    "    return np.min(moves.sum(axis=1))\n",
    "\n",
    "def nth_triangular(x):\n",
    "    return np.array([range(x+1)]).sum()\n",
    "nth_vec = np.vectorize(nth_triangular)"
   ]
  },
  {
   "cell_type": "code",
   "execution_count": 205,
   "id": "697b294b",
   "metadata": {},
   "outputs": [
    {
     "name": "stdout",
     "output_type": "stream",
     "text": [
      "CPU times: user 2 µs, sys: 1 µs, total: 3 µs\n",
      "Wall time: 6.2 µs\n"
     ]
    },
    {
     "data": {
      "text/plain": [
       "329389"
      ]
     },
     "execution_count": 205,
     "metadata": {},
     "output_type": "execute_result"
    }
   ],
   "source": [
    "%time\n",
    "solution_vector = np.array(range(max(data)+1))\n",
    "optimize(data, solution_vector)"
   ]
  },
  {
   "cell_type": "code",
   "execution_count": 25,
   "id": "11eb9b7f",
   "metadata": {},
   "outputs": [],
   "source": [
    "def calculate_crabs(data, type_='linear'):\n",
    "    assert type_ in ['linear', 'triangle']\n",
    "    diff_array = np.zeros(data.size)\n",
    "    smallest = np.array([])\n",
    "    for i in np.array(range(max(data)+1)):\n",
    "        new = np.abs(data - i)\n",
    "        if not smallest.size:\n",
    "            smallest = new\n",
    "            continue\n",
    "        if type_ == 'linear':\n",
    "            diff_array = new - smallest\n",
    "        else:\n",
    "            larger = new > smallest\n",
    "            smaller = new < smallest\n",
    "            diff_array[larger] = new[larger]\n",
    "            diff_array[smaller] = -smallest[smaller]\n",
    "        if diff_array.sum() < 0:\n",
    "            smallest = new\n",
    "    return smallest.sum() if type_ == 'linear' else nth_vec(smallest).sum()\n"
   ]
  },
  {
   "cell_type": "code",
   "execution_count": 26,
   "id": "a95de49f",
   "metadata": {},
   "outputs": [
    {
     "name": "stdout",
     "output_type": "stream",
     "text": [
      "CPU times: user 3 µs, sys: 1 µs, total: 4 µs\n",
      "Wall time: 5.96 µs\n"
     ]
    },
    {
     "data": {
      "text/plain": [
       "86397080"
      ]
     },
     "execution_count": 26,
     "metadata": {},
     "output_type": "execute_result"
    }
   ],
   "source": [
    "%time\n",
    "calculate_crabs(data, 'triangle')"
   ]
  },
  {
   "cell_type": "markdown",
   "id": "b05963cb",
   "metadata": {},
   "source": [
    "# Day 8"
   ]
  },
  {
   "cell_type": "code",
   "execution_count": 215,
   "id": "d3dbee52",
   "metadata": {},
   "outputs": [],
   "source": [
    "cookies = {\n",
    "    \"session\": \"53616c7465645f5ff7db31f30dbc39e8efa073d984f1019c423857460dd4104435d33265120f00431aafacd6a212e84f; _ga=GA1.2.1167308080.1638436952; _gid=GA1.2.1150076090.1638436952\"\n",
    "}\n",
    "resp = requests.get(\"https://adventofcode.com/2021/day/8/input\", cookies=cookies)\n",
    "df = pd.read_csv(StringIO(resp.content.decode('utf-8')), sep = \"|\", header=None, names=['sequences', 'screen'])\n",
    "df['sequences'] = df['sequences'].str.strip().str.split(' ')\n",
    "df['screen'] = df['screen'].str.strip().str.split(' ')"
   ]
  },
  {
   "cell_type": "code",
   "execution_count": 261,
   "id": "af951de6",
   "metadata": {},
   "outputs": [],
   "source": [
    "sequences = ['acedgfb', 'cdfbe', 'gcdfa', 'fbcad', 'dab', 'cefabd', 'cdfgeb', 'eafb', 'cagedb', 'ab' ]\n",
    "screen = ['cdfeb', 'fcadb', 'cdfeb', 'cdbaf']"
   ]
  },
  {
   "cell_type": "code",
   "execution_count": 262,
   "id": "82213d80",
   "metadata": {
    "scrolled": true
   },
   "outputs": [],
   "source": [
    "def get_digit_map(sequences):\n",
    "    lengths = list(map(len, sequences))\n",
    "    unique_numbers = {\n",
    "        1: 2,\n",
    "        4: 4,\n",
    "        7: 3,\n",
    "        8: 7\n",
    "    }\n",
    "    digits_map = {k: sequences[lengths.index(v)] for k, v in unique_numbers.items()}\n",
    "    digits_map[9] = [seq for seq in sequences if len(seq & (digits_map[4] | digits_map[7])) == 5 and len(seq) == 6][0]\n",
    "    digits_map[6] = [seq for seq in sequences if len(seq & (digits_map[8] - digits_map[7])) == 4 and len(seq) == 6][0]\n",
    "    digits_map[5] = [seq for seq in sequences if seq == digits_map[9] & digits_map[6] and len(seq) == 5][0]\n",
    "    digits_map[3] = [seq for seq in sequences if len(seq & digits_map[9]) == 5 and seq != digits_map[5] and len(seq) == 5][0]\n",
    "    digits_map[2] = [seq for seq in sequences if len(seq & digits_map[6]) == 4 and len(seq) == 5 and seq != digits_map[5] and seq!=digits_map[3]][0]\n",
    "    digits_map[0] = [seq for seq in sequences if seq not in digits_map.values()][0]\n",
    "    \n",
    "    return [digits_map[i] for i in sorted(digits_map.keys())]"
   ]
  },
  {
   "cell_type": "code",
   "execution_count": 263,
   "id": "05b94ff1",
   "metadata": {},
   "outputs": [],
   "source": [
    "def translate_numbers(sequences, screen):\n",
    "    sequences = list(map(set, sequences))\n",
    "    screen = list(map(set, screen))\n",
    "    digit_map = get_digit_map(sequences)\n",
    "    return [digit_map.index(k) for k in screen]"
   ]
  },
  {
   "cell_type": "code",
   "execution_count": 266,
   "id": "954a4076",
   "metadata": {
    "scrolled": true
   },
   "outputs": [
    {
     "data": {
      "text/plain": [
       "[5, 3, 5, 3]"
      ]
     },
     "execution_count": 266,
     "metadata": {},
     "output_type": "execute_result"
    }
   ],
   "source": [
    "translate_numbers(sequences, screen)"
   ]
  },
  {
   "cell_type": "code",
   "execution_count": null,
   "id": "934d5092",
   "metadata": {},
   "outputs": [],
   "source": [
    "df['result'] = df.apply(lambda x: np.array(translate_numbers(x['sequences'], x['screen'])), axis=1)"
   ]
  },
  {
   "cell_type": "code",
   "execution_count": null,
   "id": "0babbbc2",
   "metadata": {},
   "outputs": [],
   "source": [
    "df['result'].apply(lambda x: np.isin(x, [1, 4, 7, 8]).sum()).sum()"
   ]
  },
  {
   "cell_type": "code",
   "execution_count": null,
   "id": "a71f280f",
   "metadata": {},
   "outputs": [],
   "source": [
    "df['result'].apply(lambda x: (x * np.array([1000, 100, 10, 1]).T).sum()).sum()"
   ]
  },
  {
   "cell_type": "markdown",
   "id": "424088f3",
   "metadata": {},
   "source": [
    "# Day 9"
   ]
  },
  {
   "cell_type": "code",
   "execution_count": 323,
   "id": "0eb8c137",
   "metadata": {},
   "outputs": [],
   "source": [
    "from numpy.lib.stride_tricks import sliding_window_view"
   ]
  },
  {
   "cell_type": "code",
   "execution_count": 321,
   "id": "e12bf932",
   "metadata": {},
   "outputs": [],
   "source": [
    "x = np.array([[2,1,9,9,9,4,3,2,1,0],\n",
    "[3,9,8,7,8,9,4,9,2,1],\n",
    "[9,8,5,6,7,8,9,8,9,2],\n",
    "[8,7,6,7,8,9,6,7,8,9],\n",
    "[9,8,9,9,9,6,5,6,7,8]])"
   ]
  },
  {
   "cell_type": "code",
   "execution_count": 322,
   "id": "8546f2a9",
   "metadata": {},
   "outputs": [
    {
     "data": {
      "text/plain": [
       "array([[2, 1, 9, 9, 9, 4, 3, 2, 1, 0],\n",
       "       [3, 9, 8, 7, 8, 9, 4, 9, 2, 1],\n",
       "       [9, 8, 5, 6, 7, 8, 9, 8, 9, 2],\n",
       "       [8, 7, 6, 7, 8, 9, 6, 7, 8, 9],\n",
       "       [9, 8, 9, 9, 9, 6, 5, 6, 7, 8]])"
      ]
     },
     "execution_count": 322,
     "metadata": {},
     "output_type": "execute_result"
    }
   ],
   "source": [
    "x"
   ]
  },
  {
   "cell_type": "code",
   "execution_count": 358,
   "id": "52bfd9c2",
   "metadata": {},
   "outputs": [],
   "source": [
    "arr = np.array(\n",
    "    [[2, 4, 9],\n",
    "     [3, 2, 8],\n",
    "     [9, 8, 5]])"
   ]
  },
  {
   "cell_type": "code",
   "execution_count": 388,
   "id": "57241979",
   "metadata": {},
   "outputs": [
    {
     "data": {
      "text/plain": [
       "2"
      ]
     },
     "execution_count": 388,
     "metadata": {},
     "output_type": "execute_result"
    }
   ],
   "source": [
    "def is_drop(x):\n",
    "    #arr = x.copy()\n",
    "    #arr[0, 0] = 10\n",
    "    #arr[0, 2] = 10\n",
    "    ##arr[2, 0] = 10\n",
    "    axrr[2, 2] = 10\n",
    "    return arr[1,1] if np.unravel_index(arr.argmin(), arr.shape) == (1,1) else 0\n",
    "\n",
    "is_drop(arr)"
   ]
  },
  {
   "cell_type": "code",
   "execution_count": 402,
   "id": "1e3f176c",
   "metadata": {},
   "outputs": [
    {
     "data": {
      "text/plain": [
       "array([[[2, 1, 9],\n",
       "        [3, 9, 8],\n",
       "        [9, 8, 5]],\n",
       "\n",
       "       [[1, 9, 9],\n",
       "        [9, 8, 7],\n",
       "        [8, 5, 6]],\n",
       "\n",
       "       [[9, 9, 9],\n",
       "        [8, 7, 8],\n",
       "        [5, 6, 7]],\n",
       "\n",
       "       [[9, 9, 4],\n",
       "        [7, 8, 9],\n",
       "        [6, 7, 8]],\n",
       "\n",
       "       [[9, 4, 3],\n",
       "        [8, 9, 4],\n",
       "        [7, 8, 9]],\n",
       "\n",
       "       [[4, 3, 2],\n",
       "        [9, 4, 9],\n",
       "        [8, 9, 8]],\n",
       "\n",
       "       [[3, 2, 1],\n",
       "        [4, 9, 2],\n",
       "        [9, 8, 9]],\n",
       "\n",
       "       [[2, 1, 0],\n",
       "        [9, 2, 1],\n",
       "        [8, 9, 2]]])"
      ]
     },
     "execution_count": 402,
     "metadata": {},
     "output_type": "execute_result"
    }
   ],
   "source": [
    "sliding_window_view(x, [3, 3])[0]"
   ]
  },
  {
   "cell_type": "code",
   "execution_count": 400,
   "id": "9db1f6cf",
   "metadata": {},
   "outputs": [
    {
     "data": {
      "text/plain": [
       "(8, 3, 3)"
      ]
     },
     "execution_count": 400,
     "metadata": {},
     "output_type": "execute_result"
    }
   ],
   "source": [
    "sliding_window_view(x, [3, 3])[0].shape"
   ]
  },
  {
   "cell_type": "code",
   "execution_count": 403,
   "id": "d4d8f945",
   "metadata": {},
   "outputs": [
    {
     "data": {
      "text/plain": [
       "array([[2, 2, 2],\n",
       "       [2, 2, 2],\n",
       "       [2, 2, 2]])"
      ]
     },
     "execution_count": 403,
     "metadata": {},
     "output_type": "execute_result"
    }
   ],
   "source": [
    "np.apply_along_axis(is_drop, 0, sliding_window_view(x, [3, 3])[0])"
   ]
  },
  {
   "cell_type": "code",
   "execution_count": 391,
   "id": "72ad91e2",
   "metadata": {},
   "outputs": [],
   "source": [
    "for window in sliding_window_view(x, [3, 3]):\n",
    "    is_drop(window)"
   ]
  },
  {
   "cell_type": "code",
   "execution_count": 316,
   "id": "98309699",
   "metadata": {},
   "outputs": [],
   "source": [
    "from scipy import signal"
   ]
  },
  {
   "cell_type": "code",
   "execution_count": null,
   "id": "fcc28b40",
   "metadata": {},
   "outputs": [],
   "source": []
  },
  {
   "cell_type": "code",
   "execution_count": null,
   "id": "9b466d91",
   "metadata": {},
   "outputs": [],
   "source": []
  },
  {
   "cell_type": "code",
   "execution_count": null,
   "id": "771087a3",
   "metadata": {},
   "outputs": [],
   "source": []
  }
 ],
 "metadata": {
  "kernelspec": {
   "display_name": "Python 3 (ipykernel)",
   "language": "python",
   "name": "python3"
  },
  "language_info": {
   "codemirror_mode": {
    "name": "ipython",
    "version": 3
   },
   "file_extension": ".py",
   "mimetype": "text/x-python",
   "name": "python",
   "nbconvert_exporter": "python",
   "pygments_lexer": "ipython3",
   "version": "3.8.2"
  }
 },
 "nbformat": 4,
 "nbformat_minor": 5
}
