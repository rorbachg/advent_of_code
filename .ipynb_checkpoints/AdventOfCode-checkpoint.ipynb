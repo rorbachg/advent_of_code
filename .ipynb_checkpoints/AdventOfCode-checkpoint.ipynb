{
 "cells": [
  {
   "cell_type": "code",
   "execution_count": 1,
   "id": "bcafb80e",
   "metadata": {},
   "outputs": [],
   "source": [
    "import requests\n",
    "import pandas as pd\n",
    "import json\n",
    "from io import StringIO"
   ]
  },
  {
   "cell_type": "markdown",
   "id": "a86d2a49",
   "metadata": {},
   "source": [
    "# Day 1"
   ]
  },
  {
   "cell_type": "code",
   "execution_count": 2,
   "id": "4edf6f36",
   "metadata": {},
   "outputs": [],
   "source": [
    "cookies = {\n",
    "    \"session\": \"53616c7465645f5ff7db31f30dbc39e8efa073d984f1019c423857460dd4104435d33265120f00431aafacd6a212e84f; _ga=GA1.2.1167308080.1638436952; _gid=GA1.2.1150076090.1638436952\"\n",
    "}\n",
    "resp = requests.get(\"https://adventofcode.com/2021/day/1/input\", cookies=cookies)\n",
    "df = pd.read_csv(StringIO(resp.content.decode('utf-8')), sep = \" \", names=[\"first\"])"
   ]
  },
  {
   "cell_type": "code",
   "execution_count": 4,
   "id": "bc8aace5",
   "metadata": {},
   "outputs": [],
   "source": [
    "def count_increased(df):\n",
    "    df = df.copy()\n",
    "    df['second'] = df['first'].shift(-1)\n",
    "    return (df['second'] > df['first']).sum()"
   ]
  },
  {
   "cell_type": "code",
   "execution_count": 5,
   "id": "6b9ea2ca",
   "metadata": {},
   "outputs": [
    {
     "data": {
      "text/plain": [
       "1529"
      ]
     },
     "execution_count": 5,
     "metadata": {},
     "output_type": "execute_result"
    }
   ],
   "source": [
    "count_increased(df)"
   ]
  },
  {
   "cell_type": "code",
   "execution_count": 6,
   "id": "f7b326e3",
   "metadata": {},
   "outputs": [],
   "source": [
    "def count_increased_triplets(df):\n",
    "    df = df.copy()\n",
    "    df = df.rolling(window=3).sum()\n",
    "    return count_increased(df)"
   ]
  },
  {
   "cell_type": "code",
   "execution_count": 7,
   "id": "a03aa5ed",
   "metadata": {
    "scrolled": true
   },
   "outputs": [
    {
     "data": {
      "text/plain": [
       "1567"
      ]
     },
     "execution_count": 7,
     "metadata": {},
     "output_type": "execute_result"
    }
   ],
   "source": [
    "count_increased_triplets(df)"
   ]
  },
  {
   "cell_type": "markdown",
   "id": "6e51879b",
   "metadata": {},
   "source": [
    "# Day 2"
   ]
  },
  {
   "cell_type": "code",
   "execution_count": 8,
   "id": "d647ab22",
   "metadata": {},
   "outputs": [],
   "source": [
    "cookies = {\n",
    "    \"session\": \"53616c7465645f5ff7db31f30dbc39e8efa073d984f1019c423857460dd4104435d33265120f00431aafacd6a212e84f; _ga=GA1.2.1167308080.1638436952; _gid=GA1.2.1150076090.1638436952\"\n",
    "}\n",
    "resp = requests.get(\"https://adventofcode.com/2021/day/2/input\", cookies=cookies)\n",
    "df = pd.read_csv(StringIO(resp.content.decode('utf-8')), sep = \" \", names=[\"move\", \"value\"])"
   ]
  },
  {
   "cell_type": "code",
   "execution_count": 9,
   "id": "f879423f",
   "metadata": {},
   "outputs": [],
   "source": [
    "def calculate_square_move_position(df):\n",
    "    df = df.copy()\n",
    "    agg_df = df.groupby(\"move\").sum()\n",
    "    fwd = agg_df.loc[\"forward\", \"value\"]\n",
    "    depth = agg_df.loc[\"down\", \"value\"] - agg_df.loc[\"up\", \"value\"]\n",
    "    return fwd * depth"
   ]
  },
  {
   "cell_type": "code",
   "execution_count": 10,
   "id": "35174978",
   "metadata": {},
   "outputs": [
    {
     "data": {
      "text/plain": [
       "1762050"
      ]
     },
     "execution_count": 10,
     "metadata": {},
     "output_type": "execute_result"
    }
   ],
   "source": [
    "calculate_square_move_position(df)"
   ]
  },
  {
   "cell_type": "code",
   "execution_count": 11,
   "id": "8649354d",
   "metadata": {},
   "outputs": [],
   "source": [
    "def calculate_aim_move_position(df):\n",
    "    df.copy()\n",
    "    df = df.set_index(\"move\")\n",
    "    df['aim_diff'] = 0\n",
    "    df['depth_diff'] = 0\n",
    "    df['fwd_diff'] = 0\n",
    "    df.loc[\"down\", \"aim_diff\"] = df.loc[\"down\", \"value\"]\n",
    "    df.loc[\"up\", \"aim_diff\"] = -df.loc[\"up\", \"value\"]\n",
    "    df['aim'] = df.aim_diff.cumsum()\n",
    "    df.loc[\"forward\", \"fwd_diff\"] = df.loc[\"forward\"].value\n",
    "    df.loc[\"forward\", \"depth_diff\"] = df.loc[\"forward\"].value * df.loc[\"forward\"].aim\n",
    "    return df['depth_diff'].sum() * df['fwd_diff'].sum()\n"
   ]
  },
  {
   "cell_type": "code",
   "execution_count": 12,
   "id": "249d7e5d",
   "metadata": {},
   "outputs": [
    {
     "data": {
      "text/plain": [
       "1855892637"
      ]
     },
     "execution_count": 12,
     "metadata": {},
     "output_type": "execute_result"
    }
   ],
   "source": [
    "calculate_aim_move_position(df)"
   ]
  },
  {
   "cell_type": "markdown",
   "id": "b7237a77",
   "metadata": {},
   "source": [
    "# Day 3"
   ]
  },
  {
   "cell_type": "code",
   "execution_count": 13,
   "id": "9a79079f",
   "metadata": {},
   "outputs": [],
   "source": [
    "cookies = {\n",
    "    \"session\": \"53616c7465645f5ff7db31f30dbc39e8efa073d984f1019c423857460dd4104435d33265120f00431aafacd6a212e84f; _ga=GA1.2.1167308080.1638436952; _gid=GA1.2.1150076090.1638436952\"\n",
    "}\n",
    "resp = requests.get(\"https://adventofcode.com/2021/day/3/input\", cookies=cookies)\n",
    "df = pd.read_csv(StringIO(resp.content.decode('utf-8')), sep = \" \", names=[\"diag\"], dtype=str)"
   ]
  },
  {
   "cell_type": "code",
   "execution_count": 14,
   "id": "d680152a",
   "metadata": {},
   "outputs": [],
   "source": [
    "def power_consumption(df):\n",
    "    df = df.copy()\n",
    "    bit_len = len(df.iloc[0, 0])\n",
    "    df = df.diag.str.split(\"\", expand = True).iloc[:, 1:-1]\n",
    "    gamma_rate = int(df.mode().apply(lambda row: \"\".join(row.astype(str)), axis=1)[0], 2)\n",
    "    epsilon_rate = 2**bit_len - 1 - gamma_rate\n",
    "    return gamma_rate * epsilon_rate"
   ]
  },
  {
   "cell_type": "code",
   "execution_count": 15,
   "id": "d4b337b2",
   "metadata": {},
   "outputs": [
    {
     "data": {
      "text/plain": [
       "1092896"
      ]
     },
     "execution_count": 15,
     "metadata": {},
     "output_type": "execute_result"
    }
   ],
   "source": [
    "power_consumption(df)"
   ]
  },
  {
   "cell_type": "code",
   "execution_count": 16,
   "id": "8a2f0160",
   "metadata": {},
   "outputs": [],
   "source": [
    "def bit_criteria(df, inversed=False):\n",
    "    default = '0' if inversed else '1'\n",
    "    new_df = df.copy()\n",
    "    for i in new_df.columns:\n",
    "        if new_df.shape[0] == 1:\n",
    "            break\n",
    "        counts = new_df.loc[:, i].value_counts(ascending=inversed)\n",
    "        most_common = default if counts[0] == counts[1] else counts.index[0]\n",
    "        new_df = new_df[new_df.loc[:, i] == most_common]\n",
    "    return int(new_df.apply(lambda row: \"\".join(row.astype(str)), axis=1).iloc[0], 2)"
   ]
  },
  {
   "cell_type": "code",
   "execution_count": 17,
   "id": "8f7cf39d",
   "metadata": {},
   "outputs": [],
   "source": [
    "def life_support(df):\n",
    "    df = df.copy()\n",
    "    df = df.diag.str.split(\"\", expand = True).iloc[:, 1:-1].astype(\"category\")\n",
    "    oxygen = bit_criteria(df, False)\n",
    "    co2 = bit_criteria(df, True)\n",
    "    return oxygen * co2"
   ]
  },
  {
   "cell_type": "code",
   "execution_count": 18,
   "id": "dad8ec2a",
   "metadata": {
    "scrolled": true
   },
   "outputs": [
    {
     "data": {
      "text/plain": [
       "4672151"
      ]
     },
     "execution_count": 18,
     "metadata": {},
     "output_type": "execute_result"
    }
   ],
   "source": [
    "life_support(df)"
   ]
  },
  {
   "cell_type": "markdown",
   "id": "5691a7d2",
   "metadata": {},
   "source": [
    "# Day 4"
   ]
  },
  {
   "cell_type": "code",
   "execution_count": 399,
   "id": "76ed4341-5e3d-40a9-ba89-c8f4ada8a539",
   "metadata": {},
   "outputs": [],
   "source": [
    "cookies = {\n",
    "    \"session\": \"53616c7465645f5f54e63355f047f61b6a213a59f854955cd6dc6ada7f002dba3e4e0a76cae96f63f2fb15570d7bb062; _ga=GA1.2.1167308080.1638436952; _gid=GA1.2.1150076090.1638436952\"\n",
    "}\n",
    "resp = requests.get(\"https://adventofcode.com/2021/day/4/input\", cookies=cookies)\n",
    "content = resp.content.decode('utf-8').split('\\n\\n')\n",
    "seq = pd.read_csv(StringIO(content[0]), header=None).T.iloc[:,0].values\n",
    "\n",
    "cont_list = []\n",
    "for cont in content[1:]:\n",
    "    cont_list.append(pd.read_csv(StringIO(cont), sep = '\\s+', header=None).values)\n",
    "tables = np.stack(cont_list)"
   ]
  },
  {
   "cell_type": "code",
   "execution_count": 414,
   "id": "bad8b5ea",
   "metadata": {},
   "outputs": [],
   "source": [
    "seq = np.array([7,4,9,5,11,17,23,2,0,14,21,24,10,16,13,6,15,25,12,22,18,20,8,19,3,26,1])\n",
    "\n",
    "tables = np.array([\n",
    "    [[22, 13, 17, 11,  0],\n",
    "     [8, 2, 23, 4, 24],\n",
    "     [21, 9, 14, 16, 7],\n",
    "     [6, 10, 3, 18, 5],\n",
    "     [1, 12, 20, 15, 19]],\n",
    "    [[3, 15, 0, 2, 22],\n",
    "     [9, 18, 13, 17, 5],\n",
    "     [19, 8, 7, 25, 23],\n",
    "     [20, 11, 10, 24, 4],\n",
    "     [14, 21, 16, 12, 6]],\n",
    "    [[14, 21, 17, 24,  4],\n",
    "     [10, 16, 15, 9, 19],\n",
    "     [18, 8, 23, 26, 20],\n",
    "     [22, 11, 13, 6, 5],\n",
    "     [2, 0, 12, 3, 7]],\n",
    "])"
   ]
  },
  {
   "cell_type": "code",
   "execution_count": 415,
   "id": "3891633b-c6a4-4953-adc7-c8df753f9f0d",
   "metadata": {},
   "outputs": [],
   "source": [
    "def bingo_number(tables, seq):\n",
    "    new = tables\n",
    "    for i in seq:\n",
    "        new = np.where(new == i, -1, new)\n",
    "        cols_end = np.where(new.sum(axis=1) == -5)\n",
    "        rows_end = np.where(new.sum(axis=2) == -5)\n",
    "        if (cols_winner := cols_end[0].size) or (rows_winner := rows_end[0].size):\n",
    "            winner_id = cols_end[0][0] if cols_winner else rows_end[0][0]\n",
    "            break\n",
    "    return new[winner_id][new[winner_id] != -1].sum() * i"
   ]
  },
  {
   "cell_type": "code",
   "execution_count": 416,
   "id": "1e6dd44e-58ae-4a3b-817c-4fc6506dfa8a",
   "metadata": {},
   "outputs": [
    {
     "data": {
      "text/plain": [
       "4512"
      ]
     },
     "execution_count": 416,
     "metadata": {},
     "output_type": "execute_result"
    }
   ],
   "source": [
    "bingo_number(tables, seq)"
   ]
  },
  {
   "cell_type": "code",
   "execution_count": 410,
   "id": "433c3e83-b6c0-4881-b293-15b89f47e0ca",
   "metadata": {
    "tags": []
   },
   "outputs": [],
   "source": [
    "def last_bingo_number(tables, seq):\n",
    "    players = tables.shape[0]\n",
    "    players_won = []\n",
    "    winners_scores = []\n",
    "    new = tables\n",
    "    for i in seq:\n",
    "        new = np.where(new == i, -1, new)\n",
    "        cols_end = np.where(new.sum(axis=1) == -5)\n",
    "        rows_end = np.where(new.sum(axis=2) == -5)\n",
    "        if (cols_winner := cols_end[0].size) or (rows_winner := rows_end[0].size):\n",
    "            winner_ids = np.unique(np.concatenate([cols_end[0], rows_end[0]]))\n",
    "            for winner_id in winner_ids:\n",
    "                players_won.append(winner_id)\n",
    "                winners_scores.append(new[winner_id][new[winner_id] != -1].sum() * i)\n",
    "                new[winner_id,:,:] = -10\n",
    "        if len(players_won) == players:\n",
    "            break\n",
    "    return winners_scores[-1]"
   ]
  },
  {
   "cell_type": "code",
   "execution_count": 411,
   "id": "99b64076-4cc4-4bb6-bd3f-60f5d1ffa566",
   "metadata": {},
   "outputs": [
    {
     "data": {
      "text/plain": [
       "21184"
      ]
     },
     "execution_count": 411,
     "metadata": {},
     "output_type": "execute_result"
    }
   ],
   "source": [
    "last_bingo_number(tables, seq)"
   ]
  },
  {
   "cell_type": "markdown",
   "id": "1bcb4dbf-ea19-428d-b7e5-6ea6d6fa9418",
   "metadata": {},
   "source": [
    "# Day 5"
   ]
  },
  {
   "cell_type": "code",
   "execution_count": 729,
   "id": "a09f4ab0-23f7-4b8e-8d03-d76256187355",
   "metadata": {},
   "outputs": [],
   "source": [
    "cookies = {\n",
    "    \"session\": \"53616c7465645f5ff7db31f30dbc39e8efa073d984f1019c423857460dd4104435d33265120f00431aafacd6a212e84f; _ga=GA1.2.1167308080.1638436952; _gid=GA1.2.1150076090.1638436952\"\n",
    "}\n",
    "resp = requests.get(\"https://adventofcode.com/2021/day/5/input\", cookies=cookies)\n",
    "df = pd.read_csv(StringIO(resp.content.decode('utf-8')), sep = \" \", header=None, names=['start', 'sep', 'end'])\n",
    "df['start'] = df['start'].apply(lambda x: x.split(',')).apply(lambda x: [int(x[0]), int(x[1])])\n",
    "df['end'] = df['end'].apply(lambda x: x.split(',')).apply(lambda x: [int(x[0]), int(x[1])])\n",
    "coords = np.array(df[['start', 'end']].to_numpy().tolist())"
   ]
  },
  {
   "cell_type": "code",
   "execution_count": 728,
   "id": "f9cc5418-789f-4a87-a7a0-a3ca265def5a",
   "metadata": {},
   "outputs": [],
   "source": [
    "def vertical_horizontal_coords(coords):\n",
    "    x_pairs = coords[:, :, 0]\n",
    "    y_pairs = coords[:, :, 1]\n",
    "\n",
    "    ver_hor_coords = coords[np.logical_or(\n",
    "            x_pairs[:, 0] == x_pairs[:, 1],\n",
    "            y_pairs[:, 0] == y_pairs[:, 1]\n",
    "        )\n",
    "    ]\n",
    "    return ver_hor_coords\n",
    "\n",
    "def count_crossings_hor_ver(coords):\n",
    "    max_coord = coords.max()\n",
    "    vent_map = np.zeros([max_coord+1, max_coord+1])\n",
    "    ver_hor_coords = vertical_horizontal_coords(coords)\n",
    "    for (y1, x1), (y2, x2) in ver_hor_coords:\n",
    "        if x1>x2: x1, x2 = x2, x1\n",
    "        if y1>y2: y1, y2 = y2, y1\n",
    "        vent_map[x1:(x2+1), y1:(y2+1)] += 1\n",
    "    return vent_map[vent_map>1].size"
   ]
  },
  {
   "cell_type": "code",
   "execution_count": 730,
   "id": "7de5c529-2a1f-42c5-bcf3-3dea09f3cb1c",
   "metadata": {},
   "outputs": [
    {
     "data": {
      "text/plain": [
       "6007"
      ]
     },
     "execution_count": 730,
     "metadata": {},
     "output_type": "execute_result"
    }
   ],
   "source": [
    "count_crossings_hor_ver(coords)"
   ]
  },
  {
   "cell_type": "code",
   "execution_count": 727,
   "id": "33c135f7-92ac-41f0-83dd-22c3ed5a779c",
   "metadata": {},
   "outputs": [],
   "source": [
    "def count_crossings(coords):\n",
    "    max_coord = coords.max()\n",
    "    vent_map = np.zeros([max_coord+1, max_coord+1])\n",
    "    for (y1, x1), (y2, x2) in coords:\n",
    "        flip = False\n",
    "        if x1>x2: x1, x2 = x2, x1; flip=not flip\n",
    "        if y1>y2: y1, y2 = y2, y1; flip=not flip\n",
    "        if x1 == x2 or y1 == y2:\n",
    "            vent_map[x1:(x2+1), y1:(y2+1)] += 1\n",
    "        else:\n",
    "            if flip:\n",
    "                value = np.fliplr(vent_map[x1:(x2+1), y1:(y2+1)])\n",
    "            else:\n",
    "                value = vent_map[x1:(x2+1), y1:(y2+1)]\n",
    "            np.fill_diagonal(value, value.diagonal()+1)\n",
    "    return vent_map[vent_map>1].size"
   ]
  },
  {
   "cell_type": "code",
   "execution_count": 731,
   "id": "44c067a5-fdb5-49de-bf43-83057a3bd116",
   "metadata": {},
   "outputs": [
    {
     "data": {
      "text/plain": [
       "19349"
      ]
     },
     "execution_count": 731,
     "metadata": {},
     "output_type": "execute_result"
    }
   ],
   "source": [
    "count_crossings(coords)"
   ]
  }
 ],
 "metadata": {
  "kernelspec": {
   "display_name": "Python 3 (ipykernel)",
   "language": "python",
   "name": "python3"
  },
  "language_info": {
   "codemirror_mode": {
    "name": "ipython",
    "version": 3
   },
   "file_extension": ".py",
   "mimetype": "text/x-python",
   "name": "python",
   "nbconvert_exporter": "python",
   "pygments_lexer": "ipython3",
   "version": "3.8.2"
  }
 },
 "nbformat": 4,
 "nbformat_minor": 5
}
